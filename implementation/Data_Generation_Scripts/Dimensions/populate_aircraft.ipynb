{
 "cells": [
  {
   "cell_type": "code",
   "execution_count": 1,
   "id": "a50ae0ae-a946-4f46-9f69-b197ca1aaae1",
   "metadata": {},
   "outputs": [],
   "source": [
    "from datetime import datetime, timedelta\n",
    "import random\n",
    "import string\n",
    "Aircraft_Type = [\"Narrow-body\", \"Wide-body\", \"Regional\", \"Turbo-prop\", \"Regional jet\", \"Business jet\"]\n",
    "Manufacturer = [\"Boeing\", \"Airbus\", \"Embraer\", \"Bombardier\", \"Cessna\"]\n",
    "Model = [\"737\", \"A320\", \"E190\", \"CRJ900\", \"Citation X\"]\n",
    "Capacity = [150, 180, 100, 90, 10] \n",
    "Year_of_Manufacture = [2010, 2015, 2005, 2008, 2012]\n",
    "Carrying_Weight = [100000, 150000, 60000, 45000, 20000] \n",
    "Fuel_Consumption = [5000, 6000, 3000, 2500, 1000]  \n",
    "def generate_id():\n",
    "    prefix = ''.join(random.choices(string.ascii_uppercase, k=2))\n",
    "    suffix = ''.join(random.choices(string.digits, k=3))\n",
    "    return f\"{prefix}-{suffix}\""
   ]
  },
  {
   "cell_type": "code",
   "execution_count": 4,
   "id": "5df3dfe5-3fe8-4956-a0c9-ba8352d8f32b",
   "metadata": {},
   "outputs": [],
   "source": [
    "def generate_aircraft_insert_statement():\n",
    "    with open('populate_aircraft.SQL', 'w') as data:\n",
    "        for i in range(100):\n",
    "            aircraft_id = generate_id() \n",
    "            aircraft_type = random.choice(Aircraft_Type)\n",
    "            manufacturer = random.choice(Manufacturer)\n",
    "            model = random.choice(Model)\n",
    "            capacity = random.choice(Capacity)\n",
    "            year_of_manufacture = random.choice(Year_of_Manufacture)\n",
    "            carrying_weight = random.choice(Carrying_Weight)\n",
    "            fuel_consumption = random.choice(Fuel_Consumption)\n",
    "\n",
    "            insert_statement = (\n",
    "                f\"INSERT INTO dim_aircraft \"\n",
    "                f\"VALUES ('1','{aircraft_id}', '{aircraft_type}', '{manufacturer}', '{model}', {capacity}, {year_of_manufacture}, {carrying_weight}, {fuel_consumption});\\n\"\n",
    "            )\n",
    "            data.write(insert_statement)\n",
    "\n",
    "generate_aircraft_insert_statement()\n"
   ]
  },
  {
   "cell_type": "code",
   "execution_count": null,
   "id": "ac7229ca-0756-4acf-a057-4a98a6c05855",
   "metadata": {},
   "outputs": [],
   "source": []
  }
 ],
 "metadata": {
  "kernelspec": {
   "display_name": "Python 3 (ipykernel)",
   "language": "python",
   "name": "python3"
  },
  "language_info": {
   "codemirror_mode": {
    "name": "ipython",
    "version": 3
   },
   "file_extension": ".py",
   "mimetype": "text/x-python",
   "name": "python",
   "nbconvert_exporter": "python",
   "pygments_lexer": "ipython3",
   "version": "3.11.3"
  }
 },
 "nbformat": 4,
 "nbformat_minor": 5
}
