{
 "cells": [
  {
   "cell_type": "code",
   "execution_count": 11,
   "id": "976cb9de-a3a2-4405-8d79-29300bde3403",
   "metadata": {},
   "outputs": [],
   "source": [
    "import random\n",
    "from datetime import datetime, timedelta\n",
    "import string\n",
    "\n",
    "Fare_Type = [\"Regular\", \"Promotional\", \"Discounted\"]\n",
    "Description = [\"Standard Fare\", \"Special Offer\", \"Last Minute Deal\"]\n",
    "Advance_Purchase_Days_Requirement = [0, 7, 14, 30]\n",
    "Cancellation_Penalty = [\"No Penalty\", \"Partial Refund\", \"Full Fare Forfeiture\"]\n",
    "Discount_Percentage = [0, 10, 20, 30]\n",
    "Effective_Start_Date = [\"2024-05-01\", \"2024-06-01\", \"2024-07-01\"]\n",
    "\n",
    "Applicable_Travel_Class = [\"Economy\", \"Premium Economy\", \"Business\", \"First\"]"
   ]
  },
  {
   "cell_type": "code",
   "execution_count": 13,
   "id": "0d59098c-6d33-4da5-b23e-db83d97c7316",
   "metadata": {},
   "outputs": [],
   "source": [
    "\n",
    "def generate_code():\n",
    "    prefix = ''.join(random.choices(string.ascii_uppercase, k=4))\n",
    "    suffix = ''.join(random.choices(string.digits, k=3))\n",
    "    return f\"{prefix}-{suffix}\"\n",
    "def generate_fare_basis_insert_statement():\n",
    "    with open('Populate_Fare_Basis.SQL', 'w') as data:\n",
    "        for i in range(500):  # Adjust the range as needed\n",
    "            fare_basis_code = generate_code()\n",
    "            fare_type = random.choice(Fare_Type)\n",
    "            description = random.choice(Description)\n",
    "            advance_purchase_days_requirement = random.choice(Advance_Purchase_Days_Requirement)\n",
    "            cancellation_penalty = random.choice(Cancellation_Penalty)\n",
    "            discount_percentage = random.choice(Discount_Percentage)\n",
    "            \n",
    "            # Randomly select start and end dates within the defined range\n",
    "            start_date = datetime.strptime(random.choice(Effective_Start_Date), \"%Y-%m-%d\")\n",
    "            random_start = start_date + timedelta(days=random.randint(1, 30))  # Adding random days up to 30 days\n",
    "            random_end = random_start + timedelta(days=random.randint(1, 730))  # Adding up to 2 years (365 * 2 = 730 days)\n",
    "            end_date_str = random_end.strftime(\"%Y-%m-%d\")\n",
    "\n",
    "            applicable_travel_class = random.choice(Applicable_Travel_Class)\n",
    "\n",
    "            insert_statement = (\n",
    "                f\"INSERT INTO Fare_Basis_Dimension \"\n",
    "                f\"VALUES ('1', '{fare_basis_code}', '{fare_type}', '{description}', {advance_purchase_days_requirement}, \"\n",
    "                f\"'{cancellation_penalty}', {discount_percentage}, TO_DATE('{random_start.strftime('%Y-%m-%d')}', 'YYYY-MM-DD'), \"\n",
    "                f\"TO_DATE('{end_date_str}', 'YYYY-MM-DD'), '{applicable_travel_class}');\\n\"\n",
    "            )\n",
    "            data.write(insert_statement)\n",
    "\n",
    "# Call the function to generate insert statements\n",
    "generate_fare_basis_insert_statement()\n"
   ]
  },
  {
   "cell_type": "code",
   "execution_count": null,
   "id": "d21074ca-491f-41a2-88ce-b63954668efd",
   "metadata": {},
   "outputs": [],
   "source": []
  }
 ],
 "metadata": {
  "kernelspec": {
   "display_name": "Python 3 (ipykernel)",
   "language": "python",
   "name": "python3"
  },
  "language_info": {
   "codemirror_mode": {
    "name": "ipython",
    "version": 3
   },
   "file_extension": ".py",
   "mimetype": "text/x-python",
   "name": "python",
   "nbconvert_exporter": "python",
   "pygments_lexer": "ipython3",
   "version": "3.12.3"
  }
 },
 "nbformat": 4,
 "nbformat_minor": 5
}
