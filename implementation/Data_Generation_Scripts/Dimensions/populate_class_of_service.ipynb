{
 "cells": [
  {
   "cell_type": "code",
   "execution_count": 2,
   "id": "04c256d2-ec94-4541-a939-9f63dca80255",
   "metadata": {},
   "outputs": [],
   "source": [
    "import random\n",
    "import string\n",
    "\n",
    "Class_Purchased = [\"Economy\", \"Premium Economy\", \"Business\", \"First\"]\n",
    "Class_Flown = [\"Economy\", \"Premium Economy\", \"Business\", \"First\"]\n",
    "Purchased_Flown_Group = [\"Same\", \"Different\"]\n",
    "Class_Change_Indicator = [\"Yes\", \"No\"]\n"
   ]
  },
  {
   "cell_type": "code",
   "execution_count": 3,
   "id": "a4e1a753-6a28-4a75-8b46-5ea0532a4d43",
   "metadata": {},
   "outputs": [],
   "source": [
    "def generate_class_of_service_insert_statements():\n",
    "    with open('Populate_Class_of_Service.SQL', 'w') as data:\n",
    "        for class_purchased in Class_Purchased:\n",
    "            for class_flown in Class_Flown:\n",
    "                for purchased_flown_group in Purchased_Flown_Group:\n",
    "                    for class_change_indicator in Class_Change_Indicator:\n",
    "                        insert_statement = (\n",
    "                            f\"INSERT INTO Class_of_Service_Dimension \"\n",
    "                            f\"VALUES ('1','{class_purchased}', '{class_flown}', '{purchased_flown_group}', '{class_change_indicator}');\\n\"\n",
    "                        )\n",
    "                        data.write(insert_statement)\n",
    "\n",
    "# Call the function to generate insert statements\n",
    "generate_class_of_service_insert_statements()\n"
   ]
  },
  {
   "cell_type": "code",
   "execution_count": null,
   "id": "f3c1f6ba-042b-4175-ae46-35c5b9900d0a",
   "metadata": {},
   "outputs": [],
   "source": []
  }
 ],
 "metadata": {
  "kernelspec": {
   "display_name": "Python 3 (ipykernel)",
   "language": "python",
   "name": "python3"
  },
  "language_info": {
   "codemirror_mode": {
    "name": "ipython",
    "version": 3
   },
   "file_extension": ".py",
   "mimetype": "text/x-python",
   "name": "python",
   "nbconvert_exporter": "python",
   "pygments_lexer": "ipython3",
   "version": "3.12.3"
  }
 },
 "nbformat": 4,
 "nbformat_minor": 5
}
